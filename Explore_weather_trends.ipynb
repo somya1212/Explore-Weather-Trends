{
 "cells": [
  {
   "cell_type": "markdown",
   "metadata": {},
   "source": [
    "## Project - Exploring weather trends\n",
    "\n",
    "### Global temperature has been a hot topic over years. In this project, I analyzed the local and global temperature data to compare the temperature trends where I live to overall temperature trends."
   ]
  },
  {
   "cell_type": "markdown",
   "metadata": {},
   "source": [
    ">Firstly, we need to gather the required dataset of the city and the world from the Database provided by Udacity. For this, I used SQL commands that is the SELECT Query to get the datset and then I downloaded it from the source."
   ]
  },
  {
   "cell_type": "markdown",
   "metadata": {},
   "source": [
    "#### Query for selecting city's data\n",
    "- select * from city_data where city='Patna' and country='India';\n",
    "\n",
    "#### Query for slecting global data\n",
    "- select * from global_data;"
   ]
  },
  {
   "cell_type": "code",
   "execution_count": 12,
   "metadata": {},
   "outputs": [],
   "source": [
    "#import the packages\n",
    "import pandas as pd\n",
    "import matplotlib.pyplot as plt\n",
    "%matplotlib inline"
   ]
  },
  {
   "cell_type": "markdown",
   "metadata": {},
   "source": [
    "> Gather City's Data using python's library Pandas"
   ]
  },
  {
   "cell_type": "code",
   "execution_count": 13,
   "metadata": {},
   "outputs": [],
   "source": [
    "df_city=pd.read_csv('C:/Users/somya/Desktop/explore_weather_trends/city.csv')"
   ]
  },
  {
   "cell_type": "code",
   "execution_count": 14,
   "metadata": {},
   "outputs": [
    {
     "data": {
      "text/html": [
       "<div>\n",
       "<style scoped>\n",
       "    .dataframe tbody tr th:only-of-type {\n",
       "        vertical-align: middle;\n",
       "    }\n",
       "\n",
       "    .dataframe tbody tr th {\n",
       "        vertical-align: top;\n",
       "    }\n",
       "\n",
       "    .dataframe thead th {\n",
       "        text-align: right;\n",
       "    }\n",
       "</style>\n",
       "<table border=\"1\" class=\"dataframe\">\n",
       "  <thead>\n",
       "    <tr style=\"text-align: right;\">\n",
       "      <th></th>\n",
       "      <th>year</th>\n",
       "      <th>city</th>\n",
       "      <th>country</th>\n",
       "      <th>avg_temp</th>\n",
       "    </tr>\n",
       "  </thead>\n",
       "  <tbody>\n",
       "    <tr>\n",
       "      <th>0</th>\n",
       "      <td>1796</td>\n",
       "      <td>Patna</td>\n",
       "      <td>India</td>\n",
       "      <td>24.99</td>\n",
       "    </tr>\n",
       "    <tr>\n",
       "      <th>1</th>\n",
       "      <td>1797</td>\n",
       "      <td>Patna</td>\n",
       "      <td>India</td>\n",
       "      <td>26.49</td>\n",
       "    </tr>\n",
       "    <tr>\n",
       "      <th>2</th>\n",
       "      <td>1798</td>\n",
       "      <td>Patna</td>\n",
       "      <td>India</td>\n",
       "      <td>24.27</td>\n",
       "    </tr>\n",
       "    <tr>\n",
       "      <th>3</th>\n",
       "      <td>1799</td>\n",
       "      <td>Patna</td>\n",
       "      <td>India</td>\n",
       "      <td>25.25</td>\n",
       "    </tr>\n",
       "    <tr>\n",
       "      <th>4</th>\n",
       "      <td>1800</td>\n",
       "      <td>Patna</td>\n",
       "      <td>India</td>\n",
       "      <td>25.20</td>\n",
       "    </tr>\n",
       "    <tr>\n",
       "      <th>5</th>\n",
       "      <td>1801</td>\n",
       "      <td>Patna</td>\n",
       "      <td>India</td>\n",
       "      <td>24.19</td>\n",
       "    </tr>\n",
       "    <tr>\n",
       "      <th>6</th>\n",
       "      <td>1802</td>\n",
       "      <td>Patna</td>\n",
       "      <td>India</td>\n",
       "      <td>25.64</td>\n",
       "    </tr>\n",
       "    <tr>\n",
       "      <th>7</th>\n",
       "      <td>1803</td>\n",
       "      <td>Patna</td>\n",
       "      <td>India</td>\n",
       "      <td>25.40</td>\n",
       "    </tr>\n",
       "    <tr>\n",
       "      <th>8</th>\n",
       "      <td>1804</td>\n",
       "      <td>Patna</td>\n",
       "      <td>India</td>\n",
       "      <td>25.72</td>\n",
       "    </tr>\n",
       "    <tr>\n",
       "      <th>9</th>\n",
       "      <td>1805</td>\n",
       "      <td>Patna</td>\n",
       "      <td>India</td>\n",
       "      <td>25.30</td>\n",
       "    </tr>\n",
       "    <tr>\n",
       "      <th>10</th>\n",
       "      <td>1806</td>\n",
       "      <td>Patna</td>\n",
       "      <td>India</td>\n",
       "      <td>25.21</td>\n",
       "    </tr>\n",
       "    <tr>\n",
       "      <th>11</th>\n",
       "      <td>1807</td>\n",
       "      <td>Patna</td>\n",
       "      <td>India</td>\n",
       "      <td>24.69</td>\n",
       "    </tr>\n",
       "    <tr>\n",
       "      <th>12</th>\n",
       "      <td>1808</td>\n",
       "      <td>Patna</td>\n",
       "      <td>India</td>\n",
       "      <td>NaN</td>\n",
       "    </tr>\n",
       "    <tr>\n",
       "      <th>13</th>\n",
       "      <td>1809</td>\n",
       "      <td>Patna</td>\n",
       "      <td>India</td>\n",
       "      <td>NaN</td>\n",
       "    </tr>\n",
       "    <tr>\n",
       "      <th>14</th>\n",
       "      <td>1810</td>\n",
       "      <td>Patna</td>\n",
       "      <td>India</td>\n",
       "      <td>NaN</td>\n",
       "    </tr>\n",
       "    <tr>\n",
       "      <th>15</th>\n",
       "      <td>1811</td>\n",
       "      <td>Patna</td>\n",
       "      <td>India</td>\n",
       "      <td>NaN</td>\n",
       "    </tr>\n",
       "    <tr>\n",
       "      <th>16</th>\n",
       "      <td>1812</td>\n",
       "      <td>Patna</td>\n",
       "      <td>India</td>\n",
       "      <td>NaN</td>\n",
       "    </tr>\n",
       "    <tr>\n",
       "      <th>17</th>\n",
       "      <td>1813</td>\n",
       "      <td>Patna</td>\n",
       "      <td>India</td>\n",
       "      <td>24.55</td>\n",
       "    </tr>\n",
       "    <tr>\n",
       "      <th>18</th>\n",
       "      <td>1814</td>\n",
       "      <td>Patna</td>\n",
       "      <td>India</td>\n",
       "      <td>23.80</td>\n",
       "    </tr>\n",
       "    <tr>\n",
       "      <th>19</th>\n",
       "      <td>1815</td>\n",
       "      <td>Patna</td>\n",
       "      <td>India</td>\n",
       "      <td>24.08</td>\n",
       "    </tr>\n",
       "  </tbody>\n",
       "</table>\n",
       "</div>"
      ],
      "text/plain": [
       "    year   city country  avg_temp\n",
       "0   1796  Patna   India     24.99\n",
       "1   1797  Patna   India     26.49\n",
       "2   1798  Patna   India     24.27\n",
       "3   1799  Patna   India     25.25\n",
       "4   1800  Patna   India     25.20\n",
       "5   1801  Patna   India     24.19\n",
       "6   1802  Patna   India     25.64\n",
       "7   1803  Patna   India     25.40\n",
       "8   1804  Patna   India     25.72\n",
       "9   1805  Patna   India     25.30\n",
       "10  1806  Patna   India     25.21\n",
       "11  1807  Patna   India     24.69\n",
       "12  1808  Patna   India       NaN\n",
       "13  1809  Patna   India       NaN\n",
       "14  1810  Patna   India       NaN\n",
       "15  1811  Patna   India       NaN\n",
       "16  1812  Patna   India       NaN\n",
       "17  1813  Patna   India     24.55\n",
       "18  1814  Patna   India     23.80\n",
       "19  1815  Patna   India     24.08"
      ]
     },
     "execution_count": 14,
     "metadata": {},
     "output_type": "execute_result"
    }
   ],
   "source": [
    "df_city.head(20)"
   ]
  },
  {
   "cell_type": "markdown",
   "metadata": {},
   "source": [
    "> There are some missing values in the dataset. So, we need to remove those missing value rows to avoid any discontinuity in graph."
   ]
  },
  {
   "cell_type": "code",
   "execution_count": 15,
   "metadata": {},
   "outputs": [],
   "source": [
    "df_city.dropna(axis=0,inplace=True)"
   ]
  },
  {
   "cell_type": "code",
   "execution_count": 16,
   "metadata": {},
   "outputs": [
    {
     "data": {
      "text/html": [
       "<div>\n",
       "<style scoped>\n",
       "    .dataframe tbody tr th:only-of-type {\n",
       "        vertical-align: middle;\n",
       "    }\n",
       "\n",
       "    .dataframe tbody tr th {\n",
       "        vertical-align: top;\n",
       "    }\n",
       "\n",
       "    .dataframe thead th {\n",
       "        text-align: right;\n",
       "    }\n",
       "</style>\n",
       "<table border=\"1\" class=\"dataframe\">\n",
       "  <thead>\n",
       "    <tr style=\"text-align: right;\">\n",
       "      <th></th>\n",
       "      <th>year</th>\n",
       "      <th>city</th>\n",
       "      <th>country</th>\n",
       "      <th>avg_temp</th>\n",
       "    </tr>\n",
       "  </thead>\n",
       "  <tbody>\n",
       "    <tr>\n",
       "      <th>0</th>\n",
       "      <td>1796</td>\n",
       "      <td>Patna</td>\n",
       "      <td>India</td>\n",
       "      <td>24.99</td>\n",
       "    </tr>\n",
       "    <tr>\n",
       "      <th>1</th>\n",
       "      <td>1797</td>\n",
       "      <td>Patna</td>\n",
       "      <td>India</td>\n",
       "      <td>26.49</td>\n",
       "    </tr>\n",
       "    <tr>\n",
       "      <th>2</th>\n",
       "      <td>1798</td>\n",
       "      <td>Patna</td>\n",
       "      <td>India</td>\n",
       "      <td>24.27</td>\n",
       "    </tr>\n",
       "    <tr>\n",
       "      <th>3</th>\n",
       "      <td>1799</td>\n",
       "      <td>Patna</td>\n",
       "      <td>India</td>\n",
       "      <td>25.25</td>\n",
       "    </tr>\n",
       "    <tr>\n",
       "      <th>4</th>\n",
       "      <td>1800</td>\n",
       "      <td>Patna</td>\n",
       "      <td>India</td>\n",
       "      <td>25.20</td>\n",
       "    </tr>\n",
       "    <tr>\n",
       "      <th>5</th>\n",
       "      <td>1801</td>\n",
       "      <td>Patna</td>\n",
       "      <td>India</td>\n",
       "      <td>24.19</td>\n",
       "    </tr>\n",
       "    <tr>\n",
       "      <th>6</th>\n",
       "      <td>1802</td>\n",
       "      <td>Patna</td>\n",
       "      <td>India</td>\n",
       "      <td>25.64</td>\n",
       "    </tr>\n",
       "    <tr>\n",
       "      <th>7</th>\n",
       "      <td>1803</td>\n",
       "      <td>Patna</td>\n",
       "      <td>India</td>\n",
       "      <td>25.40</td>\n",
       "    </tr>\n",
       "    <tr>\n",
       "      <th>8</th>\n",
       "      <td>1804</td>\n",
       "      <td>Patna</td>\n",
       "      <td>India</td>\n",
       "      <td>25.72</td>\n",
       "    </tr>\n",
       "    <tr>\n",
       "      <th>9</th>\n",
       "      <td>1805</td>\n",
       "      <td>Patna</td>\n",
       "      <td>India</td>\n",
       "      <td>25.30</td>\n",
       "    </tr>\n",
       "    <tr>\n",
       "      <th>10</th>\n",
       "      <td>1806</td>\n",
       "      <td>Patna</td>\n",
       "      <td>India</td>\n",
       "      <td>25.21</td>\n",
       "    </tr>\n",
       "    <tr>\n",
       "      <th>11</th>\n",
       "      <td>1807</td>\n",
       "      <td>Patna</td>\n",
       "      <td>India</td>\n",
       "      <td>24.69</td>\n",
       "    </tr>\n",
       "    <tr>\n",
       "      <th>17</th>\n",
       "      <td>1813</td>\n",
       "      <td>Patna</td>\n",
       "      <td>India</td>\n",
       "      <td>24.55</td>\n",
       "    </tr>\n",
       "    <tr>\n",
       "      <th>18</th>\n",
       "      <td>1814</td>\n",
       "      <td>Patna</td>\n",
       "      <td>India</td>\n",
       "      <td>23.80</td>\n",
       "    </tr>\n",
       "    <tr>\n",
       "      <th>19</th>\n",
       "      <td>1815</td>\n",
       "      <td>Patna</td>\n",
       "      <td>India</td>\n",
       "      <td>24.08</td>\n",
       "    </tr>\n",
       "    <tr>\n",
       "      <th>20</th>\n",
       "      <td>1816</td>\n",
       "      <td>Patna</td>\n",
       "      <td>India</td>\n",
       "      <td>23.81</td>\n",
       "    </tr>\n",
       "    <tr>\n",
       "      <th>21</th>\n",
       "      <td>1817</td>\n",
       "      <td>Patna</td>\n",
       "      <td>India</td>\n",
       "      <td>23.87</td>\n",
       "    </tr>\n",
       "    <tr>\n",
       "      <th>22</th>\n",
       "      <td>1818</td>\n",
       "      <td>Patna</td>\n",
       "      <td>India</td>\n",
       "      <td>24.00</td>\n",
       "    </tr>\n",
       "    <tr>\n",
       "      <th>23</th>\n",
       "      <td>1819</td>\n",
       "      <td>Patna</td>\n",
       "      <td>India</td>\n",
       "      <td>23.74</td>\n",
       "    </tr>\n",
       "    <tr>\n",
       "      <th>24</th>\n",
       "      <td>1820</td>\n",
       "      <td>Patna</td>\n",
       "      <td>India</td>\n",
       "      <td>24.02</td>\n",
       "    </tr>\n",
       "  </tbody>\n",
       "</table>\n",
       "</div>"
      ],
      "text/plain": [
       "    year   city country  avg_temp\n",
       "0   1796  Patna   India     24.99\n",
       "1   1797  Patna   India     26.49\n",
       "2   1798  Patna   India     24.27\n",
       "3   1799  Patna   India     25.25\n",
       "4   1800  Patna   India     25.20\n",
       "5   1801  Patna   India     24.19\n",
       "6   1802  Patna   India     25.64\n",
       "7   1803  Patna   India     25.40\n",
       "8   1804  Patna   India     25.72\n",
       "9   1805  Patna   India     25.30\n",
       "10  1806  Patna   India     25.21\n",
       "11  1807  Patna   India     24.69\n",
       "17  1813  Patna   India     24.55\n",
       "18  1814  Patna   India     23.80\n",
       "19  1815  Patna   India     24.08\n",
       "20  1816  Patna   India     23.81\n",
       "21  1817  Patna   India     23.87\n",
       "22  1818  Patna   India     24.00\n",
       "23  1819  Patna   India     23.74\n",
       "24  1820  Patna   India     24.02"
      ]
     },
     "execution_count": 16,
     "metadata": {},
     "output_type": "execute_result"
    }
   ],
   "source": [
    "df_city.head(20)"
   ]
  },
  {
   "cell_type": "markdown",
   "metadata": {},
   "source": [
    "> Now, we will calculate the moving average of avg_temp using python's mean function for 10 observations per window."
   ]
  },
  {
   "cell_type": "code",
   "execution_count": 17,
   "metadata": {},
   "outputs": [],
   "source": [
    "moving_avg_city = df_city['avg_temp'].rolling(window=10).mean()"
   ]
  },
  {
   "cell_type": "code",
   "execution_count": 18,
   "metadata": {},
   "outputs": [
    {
     "data": {
      "text/plain": [
       "0         NaN\n",
       "1         NaN\n",
       "2         NaN\n",
       "3         NaN\n",
       "4         NaN\n",
       "5         NaN\n",
       "6         NaN\n",
       "7         NaN\n",
       "8         NaN\n",
       "9      25.245\n",
       "10     25.267\n",
       "11     25.087\n",
       "17     25.115\n",
       "18     24.970\n",
       "19     24.858\n",
       "20     24.820\n",
       "21     24.643\n",
       "22     24.503\n",
       "23     24.305\n",
       "24     24.177\n",
       "25     24.144\n",
       "26     24.179\n",
       "27     24.200\n",
       "28     24.351\n",
       "29     24.452\n",
       "30     24.583\n",
       "31     24.725\n",
       "32     24.815\n",
       "33     24.912\n",
       "34     25.011\n",
       "        ...  \n",
       "188    25.418\n",
       "189    25.440\n",
       "190    25.422\n",
       "191    25.470\n",
       "192    25.564\n",
       "193    25.503\n",
       "194    25.472\n",
       "195    25.515\n",
       "196    25.536\n",
       "197    25.591\n",
       "198    25.635\n",
       "199    25.634\n",
       "200    25.669\n",
       "201    25.628\n",
       "202    25.618\n",
       "203    25.675\n",
       "204    25.689\n",
       "205    25.716\n",
       "206    25.764\n",
       "207    25.781\n",
       "208    25.779\n",
       "209    25.814\n",
       "210    25.852\n",
       "211    25.865\n",
       "212    25.834\n",
       "213    25.868\n",
       "214    25.964\n",
       "215    25.930\n",
       "216    25.922\n",
       "217    26.018\n",
       "Name: avg_temp, Length: 210, dtype: float64"
      ]
     },
     "execution_count": 18,
     "metadata": {},
     "output_type": "execute_result"
    }
   ],
   "source": [
    "moving_avg_city"
   ]
  },
  {
   "cell_type": "markdown",
   "metadata": {},
   "source": [
    "> Gathering Global Dataset"
   ]
  },
  {
   "cell_type": "code",
   "execution_count": 19,
   "metadata": {},
   "outputs": [],
   "source": [
    "df_global=pd.read_csv('C:/Users/somya/Desktop/explore_weather_trends/Global.csv')"
   ]
  },
  {
   "cell_type": "code",
   "execution_count": 20,
   "metadata": {},
   "outputs": [
    {
     "data": {
      "text/html": [
       "<div>\n",
       "<style scoped>\n",
       "    .dataframe tbody tr th:only-of-type {\n",
       "        vertical-align: middle;\n",
       "    }\n",
       "\n",
       "    .dataframe tbody tr th {\n",
       "        vertical-align: top;\n",
       "    }\n",
       "\n",
       "    .dataframe thead th {\n",
       "        text-align: right;\n",
       "    }\n",
       "</style>\n",
       "<table border=\"1\" class=\"dataframe\">\n",
       "  <thead>\n",
       "    <tr style=\"text-align: right;\">\n",
       "      <th></th>\n",
       "      <th>year</th>\n",
       "      <th>avg_temp</th>\n",
       "    </tr>\n",
       "  </thead>\n",
       "  <tbody>\n",
       "    <tr>\n",
       "      <th>0</th>\n",
       "      <td>1750</td>\n",
       "      <td>8.72</td>\n",
       "    </tr>\n",
       "    <tr>\n",
       "      <th>1</th>\n",
       "      <td>1751</td>\n",
       "      <td>7.98</td>\n",
       "    </tr>\n",
       "    <tr>\n",
       "      <th>2</th>\n",
       "      <td>1752</td>\n",
       "      <td>5.78</td>\n",
       "    </tr>\n",
       "    <tr>\n",
       "      <th>3</th>\n",
       "      <td>1753</td>\n",
       "      <td>8.39</td>\n",
       "    </tr>\n",
       "    <tr>\n",
       "      <th>4</th>\n",
       "      <td>1754</td>\n",
       "      <td>8.47</td>\n",
       "    </tr>\n",
       "  </tbody>\n",
       "</table>\n",
       "</div>"
      ],
      "text/plain": [
       "   year  avg_temp\n",
       "0  1750      8.72\n",
       "1  1751      7.98\n",
       "2  1752      5.78\n",
       "3  1753      8.39\n",
       "4  1754      8.47"
      ]
     },
     "execution_count": 20,
     "metadata": {},
     "output_type": "execute_result"
    }
   ],
   "source": [
    "df_global.head()"
   ]
  },
  {
   "cell_type": "markdown",
   "metadata": {},
   "source": [
    "> Finding the moving Average of global avg_temp"
   ]
  },
  {
   "cell_type": "code",
   "execution_count": 21,
   "metadata": {},
   "outputs": [],
   "source": [
    "moving_avg_global = df_global['avg_temp'].rolling(window=10).mean()"
   ]
  },
  {
   "cell_type": "code",
   "execution_count": 22,
   "metadata": {},
   "outputs": [
    {
     "data": {
      "text/plain": [
       "0        NaN\n",
       "1        NaN\n",
       "2        NaN\n",
       "3        NaN\n",
       "4        NaN\n",
       "5        NaN\n",
       "6        NaN\n",
       "7        NaN\n",
       "8        NaN\n",
       "9      8.030\n",
       "10     7.877\n",
       "11     7.956\n",
       "12     8.239\n",
       "13     8.150\n",
       "14     8.143\n",
       "15     8.132\n",
       "16     8.088\n",
       "17     8.008\n",
       "18     8.012\n",
       "19     7.982\n",
       "20     8.032\n",
       "21     7.940\n",
       "22     7.898\n",
       "23     7.970\n",
       "24     8.007\n",
       "25     8.100\n",
       "26     8.089\n",
       "27     8.093\n",
       "28     8.269\n",
       "29     8.398\n",
       "       ...  \n",
       "236    8.827\n",
       "237    8.841\n",
       "238    8.892\n",
       "239    8.911\n",
       "240    8.936\n",
       "241    8.937\n",
       "242    8.957\n",
       "243    8.941\n",
       "244    8.976\n",
       "245    9.045\n",
       "246    9.066\n",
       "247    9.087\n",
       "248    9.119\n",
       "249    9.156\n",
       "250    9.153\n",
       "251    9.176\n",
       "252    9.249\n",
       "253    9.315\n",
       "254    9.343\n",
       "255    9.378\n",
       "256    9.427\n",
       "257    9.480\n",
       "258    9.471\n",
       "259    9.493\n",
       "260    9.543\n",
       "261    9.554\n",
       "262    9.548\n",
       "263    9.556\n",
       "264    9.581\n",
       "265    9.594\n",
       "Name: avg_temp, Length: 266, dtype: float64"
      ]
     },
     "execution_count": 22,
     "metadata": {},
     "output_type": "execute_result"
    }
   ],
   "source": [
    "moving_avg_global"
   ]
  },
  {
   "cell_type": "markdown",
   "metadata": {},
   "source": [
    "> Plotting the line chart using matplotlib.\n",
    "\n",
    "- First, we will plot both the moving averages together to compare differences between local and global temperature."
   ]
  },
  {
   "cell_type": "code",
   "execution_count": 31,
   "metadata": {},
   "outputs": [
    {
     "data": {
      "image/png": "[encoded data removed]",
      "text/plain": [
       "<Figure size 432x288 with 1 Axes>"
      ]
     },
     "metadata": {
      "needs_background": "light"
     },
     "output_type": "display_data"
    }
   ],
   "source": [
    "plt.plot(df_city['year'],moving_avg_city, label='City Temp', color='blue')\n",
    "plt.plot(df_global['year'],moving_avg_global, label='Global Temp', color='red');\n",
    "plt.xlabel('Year')\n",
    "plt.ylabel('Avg Temp')\n",
    "plt.title('Global vs Local')\n",
    "plt.legend();\n"
   ]
  },
  {
   "cell_type": "markdown",
   "metadata": {},
   "source": [
    "- Now, we will plot individual line charts to observe local and global trends over time."
   ]
  },
  {
   "cell_type": "code",
   "execution_count": 33,
   "metadata": {},
   "outputs": [
    {
     "data": {
      "image/png": "[encoded data removed]",
      "text/plain": [
       "<Figure size 432x288 with 1 Axes>"
      ]
     },
     "metadata": {
      "needs_background": "light"
     },
     "output_type": "display_data"
    }
   ],
   "source": [
    "plt.plot(df_city['year'],moving_avg_city, label='City Temp', color='blue')\n",
    "plt.xlabel('Year')\n",
    "plt.ylabel('Avg Temp')\n",
    "plt.title('Local avg temp');"
   ]
  },
  {
   "cell_type": "code",
   "execution_count": 34,
   "metadata": {},
   "outputs": [
    {
     "data": {
      "image/png": "[encoded data removed]",
      "text/plain": [
       "<Figure size 432x288 with 1 Axes>"
      ]
     },
     "metadata": {
      "needs_background": "light"
     },
     "output_type": "display_data"
    }
   ],
   "source": [
    "plt.plot(df_global['year'],moving_avg_global, label='Global Temp', color='red');\n",
    "plt.xlabel('Year')\n",
    "plt.ylabel('Avg Temp')\n",
    "plt.title('Global avg temp');"
   ]
  },
  {
   "cell_type": "markdown",
   "metadata": {},
   "source": [
    "\n",
    "## Conclusions:\n"
   ]
  },
  {
   "cell_type": "markdown",
   "metadata": {},
   "source": [
    "- The average temperature of my city ranges from 23 degree celcius to 25 degree celcius whereas the average temperature of world ranges from 4 degree celcius to 10 degree celcius.\n",
    "My city is hotter with respect to world.\n",
    "- We can observe from the above graph that the difference is consistent over years.\n",
    "- Between 1800 and 1850,for 2-3 years there is a drastic decrease in the global temperature as well as the city temperature and then sudden increase in the temperature of city and world. After 1850, there were small fluctuations in temperature.After 1975, world's temperature is increasing exponentially,whereas city's temperature still fluctuates i.e. it decreases or increases.\n",
    "- The overall trends looks like the world is getting hotter over years.Over the last 100 years, the temperature is increasing due to climate change.\n",
    "- Thus we conclude that, we need to control climate changes otherwise the world will become more hotter in the coming years as the temperature is increasing exponentially."
   ]
  },
  {
   "cell_type": "code",
   "execution_count": null,
   "metadata": {},
   "outputs": [],
   "source": []
  }
 ],
 "metadata": {
  "kernelspec": {
   "display_name": "Python 3",
   "language": "python",
   "name": "python3"
  },
  "language_info": {
   "codemirror_mode": {
    "name": "ipython",
    "version": 3
   },
   "file_extension": ".py",
   "mimetype": "text/x-python",
   "name": "python",
   "nbconvert_exporter": "python",
   "pygments_lexer": "ipython3",
   "version": "3.7.3"
  }
 },
 "nbformat": 4,
 "nbformat_minor": 2
}
